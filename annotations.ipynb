{
 "cells": [
  {
   "cell_type": "code",
   "execution_count": 5,
   "metadata": {},
   "outputs": [
    {
     "name": "stdout",
     "output_type": "stream",
     "text": [
      "{'Joffrey': None, 'Jacaerys': None, 'Lucerys': None}\n",
      "{'Joffrey': None, 'Jacaerys': None, 'Lucerys': None, 'Aegon III': {}, 'Viserys II': {}}\n",
      "{'Aegon III': {}, 'Viserys II': {}}\n",
      "None\n"
     ]
    }
   ],
   "source": [
    "example_struct ={'Laenor Velaryon':{'Joffrey':None,'Jacaerys':None,'Lucerys':None},'Raenyra Targaryen':{'Joffrey':None,'Jacaerys':None, 'Lucerys':None, 'Aegon III':{},'Viserys II':{}},'Daemon Targaryen':{'Aegon III':{},'Viserys II':{}}}\n",
    "def build_tree(tree):\n",
    "    if not tree:\n",
    "        return None\n",
    "    for name, subtree in tree.items():\n",
    "        print(name)\n",
    "        print(subtree)\n",
    "\n",
    "print(build_tree(example_struct))"
   ]
  }
 ],
 "metadata": {
  "kernelspec": {
   "display_name": "venv",
   "language": "python",
   "name": "python3"
  },
  "language_info": {
   "codemirror_mode": {
    "name": "ipython",
    "version": 3
   },
   "file_extension": ".py",
   "mimetype": "text/x-python",
   "name": "python",
   "nbconvert_exporter": "python",
   "pygments_lexer": "ipython3",
   "version": "3.11.5"
  }
 },
 "nbformat": 4,
 "nbformat_minor": 2
}
