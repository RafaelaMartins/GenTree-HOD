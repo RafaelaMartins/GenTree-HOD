{
 "cells": [
  {
   "cell_type": "code",
   "execution_count": 3,
   "metadata": {},
   "outputs": [
    {
     "name": "stdout",
     "output_type": "stream",
     "text": [
      "Laenor Velaryon\n",
      "{'Joffrey': None, 'Jacaerys': None, 'Lucerys': None}\n",
      "Raenyra Targaryen\n",
      "{'Joffrey': None, 'Jacaerys': None, 'Lucerys': None, 'Aegon III': {}, 'Viserys II': {}}\n",
      "Daemon Targaryen\n",
      "{'Aegon III': {}, 'Viserys II': {}}\n",
      "None\n"
     ]
    }
   ],
   "source": [
    "example_struct ={'Laenor Velaryon':{'Joffrey':None,'Jacaerys':None,'Lucerys':None},'Raenyra Targaryen':{'Joffrey':None,'Jacaerys':None, 'Lucerys':None, 'Aegon III':{},'Viserys II':{}},'Daemon Targaryen':{'Aegon III':{},'Viserys II':{}}}\n",
    "def build_tree(tree):\n",
    "    if not tree:\n",
    "        return None\n",
    "    for name, subtree in tree.items():\n",
    "        print(name)\n",
    "        print(subtree)\n",
    "\n",
    "print(build_tree(example_struct))"
   ]
  },
  {
   "cell_type": "code",
   "execution_count": 6,
   "metadata": {},
   "outputs": [],
   "source": [
    "from collections import defaultdict\n",
    "\n",
    "def _merge_children(tree):\n",
    "    combined_tree = defaultdict(dict)\n",
    "        \n",
    "    # Primeiro, percorrer o dicionário original\n",
    "    for parent, children in tree.items():\n",
    "        for child, grandchildren in children.items():\n",
    "            # Adicionar o filho ao conjunto de filhos combinados\n",
    "            combined_tree[child].update(grandchildren or {})\n",
    "        \n",
    "    # Reconstituir a árvore combinada\n",
    "    result_tree = {}\n",
    "    for parent, children in tree.items():\n",
    "        merged_children = {child: combined_tree[child] for child in children}\n",
    "        result_tree[parent] = merged_children\n",
    "    return result_tree"
   ]
  },
  {
   "cell_type": "code",
   "execution_count": 7,
   "metadata": {},
   "outputs": [
    {
     "data": {
      "text/plain": [
       "{'Laenor Velaryon': {'Joffrey': {}, 'Jacaerys': {}, 'Lucerys': {}},\n",
       " 'Raenyra Targaryen': {'Joffrey': {},\n",
       "  'Jacaerys': {},\n",
       "  'Lucerys': {},\n",
       "  'Aegon III': {},\n",
       "  'Viserys II': {}},\n",
       " 'Daemon Targaryen': {'Aegon III': {}, 'Viserys II': {}}}"
      ]
     },
     "execution_count": 7,
     "metadata": {},
     "output_type": "execute_result"
    }
   ],
   "source": [
    "_merge_children(example_struct)"
   ]
  }
 ],
 "metadata": {
  "kernelspec": {
   "display_name": "venv",
   "language": "python",
   "name": "python3"
  },
  "language_info": {
   "codemirror_mode": {
    "name": "ipython",
    "version": 3
   },
   "file_extension": ".py",
   "mimetype": "text/x-python",
   "name": "python",
   "nbconvert_exporter": "python",
   "pygments_lexer": "ipython3",
   "version": "3.11.5"
  }
 },
 "nbformat": 4,
 "nbformat_minor": 2
}
